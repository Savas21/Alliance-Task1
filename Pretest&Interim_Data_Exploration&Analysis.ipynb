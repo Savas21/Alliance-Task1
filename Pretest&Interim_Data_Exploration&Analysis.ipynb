{
 "cells": [
  {
   "cell_type": "markdown",
   "metadata": {},
   "source": [
    "# Import Libraries"
   ]
  },
  {
   "cell_type": "code",
   "execution_count": 1,
   "metadata": {},
   "outputs": [],
   "source": [
    "#import dependencies\n",
    "import matplotlib.pyplot as plt\n",
    "import pandas as pd\n",
    "import numpy as np\n",
    "import seaborn as sns"
   ]
  },
  {
   "cell_type": "markdown",
   "metadata": {},
   "source": [
    "## Load files"
   ]
  },
  {
   "cell_type": "code",
   "execution_count": 2,
   "metadata": {},
   "outputs": [],
   "source": [
    "# Read files  \n",
    "Pretest_df = pd.read_excel(\"Raw_data/1718 PretestLexile_Final.xlsx\")\n",
    "Interim_df= pd.read_excel(\"Raw_data/1718 InterimLexile_Final.xlsx\")"
   ]
  },
  {
   "cell_type": "markdown",
   "metadata": {},
   "source": [
    "# Data Exploration"
   ]
  },
  {
   "cell_type": "code",
   "execution_count": 3,
   "metadata": {},
   "outputs": [
    {
     "data": {
      "text/plain": [
       "Index(['adminyear', 'administrationtype', 'schoolshort', 'studentid',\n",
       "       'gradelevelduringadminyear', 'ell', 'lunch_recode', 'sped_recode',\n",
       "       'ethnicity_recode', 'score', 'lexilelevel'],\n",
       "      dtype='object')"
      ]
     },
     "execution_count": 3,
     "metadata": {},
     "output_type": "execute_result"
    }
   ],
   "source": [
    "# Check the column's name  for Pretest\n",
    "Pretest_df.columns"
   ]
  },
  {
   "cell_type": "code",
   "execution_count": 4,
   "metadata": {},
   "outputs": [
    {
     "data": {
      "text/plain": [
       "Index(['adminyear', 'administrationtype', 'schoolshort', 'studentid',\n",
       "       'gradelevelduringadminyear', 'ell', 'lunch_recode', 'sped_recode',\n",
       "       'ethnicity_recode', 'score', 'lexilelevel'],\n",
       "      dtype='object')"
      ]
     },
     "execution_count": 4,
     "metadata": {},
     "output_type": "execute_result"
    }
   ],
   "source": [
    "# Check the column's name for Interim\n",
    "Interim_df.columns"
   ]
  },
  {
   "cell_type": "code",
   "execution_count": 5,
   "metadata": {},
   "outputs": [
    {
     "data": {
      "text/plain": [
       "(12626, 11)"
      ]
     },
     "execution_count": 5,
     "metadata": {},
     "output_type": "execute_result"
    }
   ],
   "source": [
    "# Check the pretest shape \n",
    "Pretest_df.shape"
   ]
  },
  {
   "cell_type": "code",
   "execution_count": 6,
   "metadata": {},
   "outputs": [
    {
     "data": {
      "text/plain": [
       "(12508, 11)"
      ]
     },
     "execution_count": 6,
     "metadata": {},
     "output_type": "execute_result"
    }
   ],
   "source": [
    "# Check the Interim shape \n",
    "Interim_df.shape"
   ]
  },
  {
   "cell_type": "markdown",
   "metadata": {},
   "source": [
    "## Check number of student id's records"
   ]
  },
  {
   "cell_type": "code",
   "execution_count": 7,
   "metadata": {},
   "outputs": [
    {
     "data": {
      "text/plain": [
       "12626"
      ]
     },
     "execution_count": 7,
     "metadata": {},
     "output_type": "execute_result"
    }
   ],
   "source": [
    "# check the number of student id's for the Pretest\n",
    "count_pretest = Pretest_df['studentid'].nunique()\n",
    "count_pretest"
   ]
  },
  {
   "cell_type": "code",
   "execution_count": 8,
   "metadata": {},
   "outputs": [
    {
     "data": {
      "text/plain": [
       "12508"
      ]
     },
     "execution_count": 8,
     "metadata": {},
     "output_type": "execute_result"
    }
   ],
   "source": [
    "# check the number of student id's for the Interim\n",
    "count_interim = Interim_df['studentid'].nunique()\n",
    "count_interim"
   ]
  },
  {
   "cell_type": "markdown",
   "metadata": {},
   "source": [
    "## Get the Difference between the the PreTest and Interim"
   ]
  },
  {
   "cell_type": "code",
   "execution_count": 9,
   "metadata": {},
   "outputs": [
    {
     "data": {
      "text/plain": [
       "118"
      ]
     },
     "execution_count": 9,
     "metadata": {},
     "output_type": "execute_result"
    }
   ],
   "source": [
    "#Number of Students that take exam on Pretest but didn't take Interim\n",
    "Num_Student_Only_Pretest_Takers = count_pretest - count_interim\n",
    "Num_Student_Only_Pretest_Takers"
   ]
  },
  {
   "cell_type": "markdown",
   "metadata": {},
   "source": [
    "## Check if there are Null Values and how to treat if there are any?"
   ]
  },
  {
   "cell_type": "code",
   "execution_count": 10,
   "metadata": {},
   "outputs": [
    {
     "data": {
      "text/plain": [
       "adminyear                    0\n",
       "administrationtype           0\n",
       "schoolshort                  0\n",
       "studentid                    0\n",
       "gradelevelduringadminyear    0\n",
       "ell                          1\n",
       "lunch_recode                 0\n",
       "sped_recode                  0\n",
       "ethnicity_recode             0\n",
       "score                        0\n",
       "lexilelevel                  0\n",
       "dtype: int64"
      ]
     },
     "execution_count": 10,
     "metadata": {},
     "output_type": "execute_result"
    }
   ],
   "source": [
    "# Checking missing values for pretest \n",
    "# Only 1 has mising value\n",
    "Pretest_df.isnull().sum()"
   ]
  },
  {
   "cell_type": "code",
   "execution_count": 11,
   "metadata": {
    "scrolled": true
   },
   "outputs": [
    {
     "data": {
      "text/plain": [
       "adminyear                    0\n",
       "administrationtype           0\n",
       "schoolshort                  0\n",
       "studentid                    0\n",
       "gradelevelduringadminyear    0\n",
       "ell                          0\n",
       "lunch_recode                 0\n",
       "sped_recode                  0\n",
       "ethnicity_recode             0\n",
       "score                        0\n",
       "lexilelevel                  0\n",
       "dtype: int64"
      ]
     },
     "execution_count": 11,
     "metadata": {},
     "output_type": "execute_result"
    }
   ],
   "source": [
    "# Checking missing values for Interim \n",
    "#No missing Value\n",
    "Interim_df.isnull().sum()"
   ]
  },
  {
   "cell_type": "code",
   "execution_count": 12,
   "metadata": {},
   "outputs": [
    {
     "data": {
      "text/html": [
       "<div>\n",
       "<style scoped>\n",
       "    .dataframe tbody tr th:only-of-type {\n",
       "        vertical-align: middle;\n",
       "    }\n",
       "\n",
       "    .dataframe tbody tr th {\n",
       "        vertical-align: top;\n",
       "    }\n",
       "\n",
       "    .dataframe thead th {\n",
       "        text-align: right;\n",
       "    }\n",
       "</style>\n",
       "<table border=\"1\" class=\"dataframe\">\n",
       "  <thead>\n",
       "    <tr style=\"text-align: right;\">\n",
       "      <th></th>\n",
       "      <th>adminyear</th>\n",
       "      <th>administrationtype</th>\n",
       "      <th>schoolshort</th>\n",
       "      <th>studentid</th>\n",
       "      <th>gradelevelduringadminyear</th>\n",
       "      <th>ell</th>\n",
       "      <th>lunch_recode</th>\n",
       "      <th>sped_recode</th>\n",
       "      <th>ethnicity_recode</th>\n",
       "      <th>score</th>\n",
       "      <th>lexilelevel</th>\n",
       "    </tr>\n",
       "  </thead>\n",
       "  <tbody>\n",
       "    <tr>\n",
       "      <th>9973</th>\n",
       "      <td>1718</td>\n",
       "      <td>Pretest</td>\n",
       "      <td>HUNTER</td>\n",
       "      <td>785185</td>\n",
       "      <td>6</td>\n",
       "      <td>NaN</td>\n",
       "      <td>Free/Reduced</td>\n",
       "      <td>Non-Special Education</td>\n",
       "      <td>Hispanic or Latino</td>\n",
       "      <td>530</td>\n",
       "      <td>below_gl_4_6_yrs</td>\n",
       "    </tr>\n",
       "  </tbody>\n",
       "</table>\n",
       "</div>"
      ],
      "text/plain": [
       "      adminyear administrationtype schoolshort  studentid  \\\n",
       "9973       1718            Pretest      HUNTER     785185   \n",
       "\n",
       "      gradelevelduringadminyear  ell  lunch_recode            sped_recode  \\\n",
       "9973                          6  NaN  Free/Reduced  Non-Special Education   \n",
       "\n",
       "        ethnicity_recode  score       lexilelevel  \n",
       "9973  Hispanic or Latino    530  below_gl_4_6_yrs  "
      ]
     },
     "execution_count": 12,
     "metadata": {},
     "output_type": "execute_result"
    }
   ],
   "source": [
    "#Check which which row has the missing column value \n",
    "Pretest_df[Pretest_df['ell'].isnull()]"
   ]
  },
  {
   "cell_type": "code",
   "execution_count": 13,
   "metadata": {},
   "outputs": [
    {
     "data": {
      "text/html": [
       "<div>\n",
       "<style scoped>\n",
       "    .dataframe tbody tr th:only-of-type {\n",
       "        vertical-align: middle;\n",
       "    }\n",
       "\n",
       "    .dataframe tbody tr th {\n",
       "        vertical-align: top;\n",
       "    }\n",
       "\n",
       "    .dataframe thead th {\n",
       "        text-align: right;\n",
       "    }\n",
       "</style>\n",
       "<table border=\"1\" class=\"dataframe\">\n",
       "  <thead>\n",
       "    <tr style=\"text-align: right;\">\n",
       "      <th></th>\n",
       "      <th>adminyear</th>\n",
       "      <th>administrationtype</th>\n",
       "      <th>schoolshort</th>\n",
       "      <th>studentid</th>\n",
       "      <th>gradelevelduringadminyear</th>\n",
       "      <th>ell</th>\n",
       "      <th>lunch_recode</th>\n",
       "      <th>sped_recode</th>\n",
       "      <th>ethnicity_recode</th>\n",
       "      <th>score</th>\n",
       "      <th>lexilelevel</th>\n",
       "    </tr>\n",
       "  </thead>\n",
       "  <tbody>\n",
       "    <tr>\n",
       "      <th>5668</th>\n",
       "      <td>1718</td>\n",
       "      <td>Interim</td>\n",
       "      <td>HUNTER</td>\n",
       "      <td>785185</td>\n",
       "      <td>6</td>\n",
       "      <td>IFEP</td>\n",
       "      <td>Free/Reduced</td>\n",
       "      <td>Non-Special Education</td>\n",
       "      <td>Hispanic or Latino</td>\n",
       "      <td>545</td>\n",
       "      <td>below_gl_4_6_yrs</td>\n",
       "    </tr>\n",
       "  </tbody>\n",
       "</table>\n",
       "</div>"
      ],
      "text/plain": [
       "      adminyear administrationtype schoolshort  studentid  \\\n",
       "5668       1718            Interim      HUNTER     785185   \n",
       "\n",
       "      gradelevelduringadminyear   ell  lunch_recode            sped_recode  \\\n",
       "5668                          6  IFEP  Free/Reduced  Non-Special Education   \n",
       "\n",
       "        ethnicity_recode  score       lexilelevel  \n",
       "5668  Hispanic or Latino    545  below_gl_4_6_yrs  "
      ]
     },
     "execution_count": 13,
     "metadata": {},
     "output_type": "execute_result"
    }
   ],
   "source": [
    "#Using  Student ID#785185 from the Pretest data, search to find graduate level from the second dataframe -\n",
    "#From Interim Table\n",
    "Interim_df[Interim_df['studentid'] == 785185]"
   ]
  },
  {
   "cell_type": "code",
   "execution_count": 14,
   "metadata": {},
   "outputs": [
    {
     "data": {
      "text/plain": [
       "adminyear                    0\n",
       "administrationtype           0\n",
       "schoolshort                  0\n",
       "studentid                    0\n",
       "gradelevelduringadminyear    0\n",
       "ell                          0\n",
       "lunch_recode                 0\n",
       "sped_recode                  0\n",
       "ethnicity_recode             0\n",
       "score                        0\n",
       "lexilelevel                  0\n",
       "dtype: int64"
      ]
     },
     "execution_count": 14,
     "metadata": {},
     "output_type": "execute_result"
    }
   ],
   "source": [
    "#Use the Interim value for ELL and replace the mssing value on PreTest\n",
    "Pretest_df['ell'] = Pretest_df['ell'].fillna('IFEP')\n",
    "Pretest_df.isnull().sum()"
   ]
  },
  {
   "cell_type": "markdown",
   "metadata": {},
   "source": [
    "## Get the number of students that  Only took PreTest or Only Interim test."
   ]
  },
  {
   "cell_type": "markdown",
   "metadata": {},
   "source": [
    "### Pre-Test Takers Only and have not taken Interim"
   ]
  },
  {
   "cell_type": "code",
   "execution_count": 15,
   "metadata": {},
   "outputs": [
    {
     "data": {
      "text/plain": [
       "130"
      ]
     },
     "execution_count": 15,
     "metadata": {},
     "output_type": "execute_result"
    }
   ],
   "source": [
    "#Students with IDs' are not in the interim but are in pretest\n",
    "df_ID_pretest = Interim_df[~Interim_df['studentid'].isin(Pretest_df['studentid'])]\n",
    "df_ID_pretest['studentid'].count()"
   ]
  },
  {
   "cell_type": "markdown",
   "metadata": {},
   "source": [
    "### Interim Takers Only and have not taken PreTest"
   ]
  },
  {
   "cell_type": "code",
   "execution_count": 16,
   "metadata": {},
   "outputs": [
    {
     "data": {
      "text/plain": [
       "248"
      ]
     },
     "execution_count": 16,
     "metadata": {},
     "output_type": "execute_result"
    }
   ],
   "source": [
    "#Students with IDs' are not in the pretest but are in interim\n",
    "df_ID_Interim = Pretest_df[~Pretest_df['studentid'].isin(Interim_df['studentid'])]\n",
    "df_ID_Interim['studentid'].count()"
   ]
  },
  {
   "cell_type": "markdown",
   "metadata": {},
   "source": [
    "## Merge the Two Dataframe"
   ]
  },
  {
   "cell_type": "code",
   "execution_count": 17,
   "metadata": {},
   "outputs": [],
   "source": [
    "#Merge PreTest DataFrame and Interim Dataframe\n",
    "#Merge using StudentID\n",
    "#Using Full-outer Joint\n",
    "merge_df =pd.merge(Pretest_df, Interim_df,how='outer', on='studentid')"
   ]
  },
  {
   "cell_type": "code",
   "execution_count": 18,
   "metadata": {},
   "outputs": [
    {
     "data": {
      "text/html": [
       "<div>\n",
       "<style scoped>\n",
       "    .dataframe tbody tr th:only-of-type {\n",
       "        vertical-align: middle;\n",
       "    }\n",
       "\n",
       "    .dataframe tbody tr th {\n",
       "        vertical-align: top;\n",
       "    }\n",
       "\n",
       "    .dataframe thead th {\n",
       "        text-align: right;\n",
       "    }\n",
       "</style>\n",
       "<table border=\"1\" class=\"dataframe\">\n",
       "  <thead>\n",
       "    <tr style=\"text-align: right;\">\n",
       "      <th></th>\n",
       "      <th>adminyear_x</th>\n",
       "      <th>administrationtype_x</th>\n",
       "      <th>schoolshort_x</th>\n",
       "      <th>studentid</th>\n",
       "      <th>gradelevelduringadminyear_x</th>\n",
       "      <th>ell_x</th>\n",
       "      <th>lunch_recode_x</th>\n",
       "      <th>sped_recode_x</th>\n",
       "      <th>ethnicity_recode_x</th>\n",
       "      <th>score_x</th>\n",
       "      <th>...</th>\n",
       "      <th>adminyear_y</th>\n",
       "      <th>administrationtype_y</th>\n",
       "      <th>schoolshort_y</th>\n",
       "      <th>gradelevelduringadminyear_y</th>\n",
       "      <th>ell_y</th>\n",
       "      <th>lunch_recode_y</th>\n",
       "      <th>sped_recode_y</th>\n",
       "      <th>ethnicity_recode_y</th>\n",
       "      <th>score_y</th>\n",
       "      <th>lexilelevel_y</th>\n",
       "    </tr>\n",
       "  </thead>\n",
       "  <tbody>\n",
       "    <tr>\n",
       "      <th>0</th>\n",
       "      <td>1718.0</td>\n",
       "      <td>Pretest</td>\n",
       "      <td>BLOOMFIELD</td>\n",
       "      <td>455857</td>\n",
       "      <td>12.0</td>\n",
       "      <td>EL</td>\n",
       "      <td>Free/Reduced</td>\n",
       "      <td>Special Education</td>\n",
       "      <td>Hispanic or Latino</td>\n",
       "      <td>385.0</td>\n",
       "      <td>...</td>\n",
       "      <td>1718.0</td>\n",
       "      <td>Interim</td>\n",
       "      <td>BLOOMFIELD</td>\n",
       "      <td>12.0</td>\n",
       "      <td>EL</td>\n",
       "      <td>Free/Reduced</td>\n",
       "      <td>Special Education</td>\n",
       "      <td>Hispanic or Latino</td>\n",
       "      <td>450.0</td>\n",
       "      <td>between_6_yrs_fr</td>\n",
       "    </tr>\n",
       "    <tr>\n",
       "      <th>1</th>\n",
       "      <td>1718.0</td>\n",
       "      <td>Pretest</td>\n",
       "      <td>BLOOMFIELD</td>\n",
       "      <td>455869</td>\n",
       "      <td>12.0</td>\n",
       "      <td>IFEP</td>\n",
       "      <td>Free/Reduced</td>\n",
       "      <td>Special Education</td>\n",
       "      <td>Hispanic or Latino</td>\n",
       "      <td>975.0</td>\n",
       "      <td>...</td>\n",
       "      <td>1718.0</td>\n",
       "      <td>Interim</td>\n",
       "      <td>BLOOMFIELD</td>\n",
       "      <td>12.0</td>\n",
       "      <td>IFEP</td>\n",
       "      <td>Free/Reduced</td>\n",
       "      <td>Special Education</td>\n",
       "      <td>Hispanic or Latino</td>\n",
       "      <td>955.0</td>\n",
       "      <td>below_gl_4_6_yrs</td>\n",
       "    </tr>\n",
       "    <tr>\n",
       "      <th>2</th>\n",
       "      <td>1718.0</td>\n",
       "      <td>Pretest</td>\n",
       "      <td>BLOOMFIELD</td>\n",
       "      <td>455893</td>\n",
       "      <td>12.0</td>\n",
       "      <td>RFEP</td>\n",
       "      <td>Free/Reduced</td>\n",
       "      <td>Non-Special Education</td>\n",
       "      <td>Hispanic or Latino</td>\n",
       "      <td>1205.0</td>\n",
       "      <td>...</td>\n",
       "      <td>1718.0</td>\n",
       "      <td>Interim</td>\n",
       "      <td>BLOOMFIELD</td>\n",
       "      <td>12.0</td>\n",
       "      <td>RFEP</td>\n",
       "      <td>Free/Reduced</td>\n",
       "      <td>Non-Special Education</td>\n",
       "      <td>Hispanic or Latino</td>\n",
       "      <td>1225.0</td>\n",
       "      <td>grade_level</td>\n",
       "    </tr>\n",
       "    <tr>\n",
       "      <th>3</th>\n",
       "      <td>1718.0</td>\n",
       "      <td>Pretest</td>\n",
       "      <td>BLOOMFIELD</td>\n",
       "      <td>455917</td>\n",
       "      <td>12.0</td>\n",
       "      <td>RFEP</td>\n",
       "      <td>Free/Reduced</td>\n",
       "      <td>Non-Special Education</td>\n",
       "      <td>Hispanic or Latino</td>\n",
       "      <td>915.0</td>\n",
       "      <td>...</td>\n",
       "      <td>1718.0</td>\n",
       "      <td>Interim</td>\n",
       "      <td>BLOOMFIELD</td>\n",
       "      <td>12.0</td>\n",
       "      <td>RFEP</td>\n",
       "      <td>Free/Reduced</td>\n",
       "      <td>Non-Special Education</td>\n",
       "      <td>Hispanic or Latino</td>\n",
       "      <td>1005.0</td>\n",
       "      <td>below_gl_4_6_yrs</td>\n",
       "    </tr>\n",
       "    <tr>\n",
       "      <th>4</th>\n",
       "      <td>1718.0</td>\n",
       "      <td>Pretest</td>\n",
       "      <td>COLLINS</td>\n",
       "      <td>455929</td>\n",
       "      <td>12.0</td>\n",
       "      <td>EO</td>\n",
       "      <td>Free/Reduced</td>\n",
       "      <td>Non-Special Education</td>\n",
       "      <td>Hispanic or Latino</td>\n",
       "      <td>650.0</td>\n",
       "      <td>...</td>\n",
       "      <td>1718.0</td>\n",
       "      <td>Interim</td>\n",
       "      <td>COLLINS</td>\n",
       "      <td>12.0</td>\n",
       "      <td>EO</td>\n",
       "      <td>Free/Reduced</td>\n",
       "      <td>Non-Special Education</td>\n",
       "      <td>Hispanic or Latino</td>\n",
       "      <td>690.0</td>\n",
       "      <td>between_6_yrs_fr</td>\n",
       "    </tr>\n",
       "  </tbody>\n",
       "</table>\n",
       "<p>5 rows × 21 columns</p>\n",
       "</div>"
      ],
      "text/plain": [
       "   adminyear_x administrationtype_x schoolshort_x  studentid  \\\n",
       "0       1718.0              Pretest    BLOOMFIELD     455857   \n",
       "1       1718.0              Pretest    BLOOMFIELD     455869   \n",
       "2       1718.0              Pretest    BLOOMFIELD     455893   \n",
       "3       1718.0              Pretest    BLOOMFIELD     455917   \n",
       "4       1718.0              Pretest       COLLINS     455929   \n",
       "\n",
       "   gradelevelduringadminyear_x ell_x lunch_recode_x          sped_recode_x  \\\n",
       "0                         12.0    EL   Free/Reduced      Special Education   \n",
       "1                         12.0  IFEP   Free/Reduced      Special Education   \n",
       "2                         12.0  RFEP   Free/Reduced  Non-Special Education   \n",
       "3                         12.0  RFEP   Free/Reduced  Non-Special Education   \n",
       "4                         12.0    EO   Free/Reduced  Non-Special Education   \n",
       "\n",
       "   ethnicity_recode_x  score_x        ...        adminyear_y  \\\n",
       "0  Hispanic or Latino    385.0        ...             1718.0   \n",
       "1  Hispanic or Latino    975.0        ...             1718.0   \n",
       "2  Hispanic or Latino   1205.0        ...             1718.0   \n",
       "3  Hispanic or Latino    915.0        ...             1718.0   \n",
       "4  Hispanic or Latino    650.0        ...             1718.0   \n",
       "\n",
       "   administrationtype_y schoolshort_y gradelevelduringadminyear_y  ell_y  \\\n",
       "0               Interim    BLOOMFIELD                        12.0     EL   \n",
       "1               Interim    BLOOMFIELD                        12.0   IFEP   \n",
       "2               Interim    BLOOMFIELD                        12.0   RFEP   \n",
       "3               Interim    BLOOMFIELD                        12.0   RFEP   \n",
       "4               Interim       COLLINS                        12.0     EO   \n",
       "\n",
       "  lunch_recode_y          sped_recode_y  ethnicity_recode_y score_y  \\\n",
       "0   Free/Reduced      Special Education  Hispanic or Latino   450.0   \n",
       "1   Free/Reduced      Special Education  Hispanic or Latino   955.0   \n",
       "2   Free/Reduced  Non-Special Education  Hispanic or Latino  1225.0   \n",
       "3   Free/Reduced  Non-Special Education  Hispanic or Latino  1005.0   \n",
       "4   Free/Reduced  Non-Special Education  Hispanic or Latino   690.0   \n",
       "\n",
       "      lexilelevel_y  \n",
       "0  between_6_yrs_fr  \n",
       "1  below_gl_4_6_yrs  \n",
       "2       grade_level  \n",
       "3  below_gl_4_6_yrs  \n",
       "4  between_6_yrs_fr  \n",
       "\n",
       "[5 rows x 21 columns]"
      ]
     },
     "execution_count": 18,
     "metadata": {},
     "output_type": "execute_result"
    }
   ],
   "source": [
    "#Inspect the newly created dataframe\n",
    "merge_df[:5]"
   ]
  },
  {
   "cell_type": "markdown",
   "metadata": {},
   "source": [
    "## Check duplicates"
   ]
  },
  {
   "cell_type": "code",
   "execution_count": 19,
   "metadata": {},
   "outputs": [],
   "source": [
    "#Since now, we have merge the two DF, we have to check if there are duplicated record\n",
    "duplicate = merge_df[merge_df.duplicated(['studentid'], keep=False)]"
   ]
  },
  {
   "cell_type": "code",
   "execution_count": 20,
   "metadata": {},
   "outputs": [
    {
     "data": {
      "text/plain": [
       "adminyear_x                    0\n",
       "administrationtype_x           0\n",
       "schoolshort_x                  0\n",
       "studentid                      0\n",
       "gradelevelduringadminyear_x    0\n",
       "ell_x                          0\n",
       "lunch_recode_x                 0\n",
       "sped_recode_x                  0\n",
       "ethnicity_recode_x             0\n",
       "score_x                        0\n",
       "lexilelevel_x                  0\n",
       "adminyear_y                    0\n",
       "administrationtype_y           0\n",
       "schoolshort_y                  0\n",
       "gradelevelduringadminyear_y    0\n",
       "ell_y                          0\n",
       "lunch_recode_y                 0\n",
       "sped_recode_y                  0\n",
       "ethnicity_recode_y             0\n",
       "score_y                        0\n",
       "lexilelevel_y                  0\n",
       "dtype: int64"
      ]
     },
     "execution_count": 20,
     "metadata": {},
     "output_type": "execute_result"
    }
   ],
   "source": [
    "#No duplciated record\n",
    "duplicate.count()"
   ]
  },
  {
   "cell_type": "markdown",
   "metadata": {},
   "source": [
    "## Check for Null Values"
   ]
  },
  {
   "cell_type": "code",
   "execution_count": 21,
   "metadata": {},
   "outputs": [
    {
     "data": {
      "text/plain": [
       "adminyear_x                    130\n",
       "administrationtype_x           130\n",
       "schoolshort_x                  130\n",
       "studentid                        0\n",
       "gradelevelduringadminyear_x    130\n",
       "ell_x                          130\n",
       "lunch_recode_x                 130\n",
       "sped_recode_x                  130\n",
       "ethnicity_recode_x             130\n",
       "score_x                        130\n",
       "lexilelevel_x                  130\n",
       "adminyear_y                    248\n",
       "administrationtype_y           248\n",
       "schoolshort_y                  248\n",
       "gradelevelduringadminyear_y    248\n",
       "ell_y                          248\n",
       "lunch_recode_y                 248\n",
       "sped_recode_y                  248\n",
       "ethnicity_recode_y             248\n",
       "score_y                        248\n",
       "lexilelevel_y                  248\n",
       "dtype: int64"
      ]
     },
     "execution_count": 21,
     "metadata": {},
     "output_type": "execute_result"
    }
   ],
   "source": [
    "#Check if there are null values\n",
    "#Since we used full-outer joint, the null values validate our previous number of Students that have not completed\n",
    "#both PreTest and Interim\n",
    "# 130 Students - have taken Pretest but didn't take Interim\n",
    "# 248 Students - have taken Interim but didn't take PreTest\n",
    "merge_df.isnull().sum()"
   ]
  },
  {
   "cell_type": "markdown",
   "metadata": {},
   "source": [
    "## Drop Datapoints on Records where PreTest Score and Interim is not complete"
   ]
  },
  {
   "cell_type": "code",
   "execution_count": 22,
   "metadata": {},
   "outputs": [
    {
     "data": {
      "text/plain": [
       "adminyear_x                    12378\n",
       "administrationtype_x           12378\n",
       "schoolshort_x                  12378\n",
       "studentid                      12378\n",
       "gradelevelduringadminyear_x    12378\n",
       "ell_x                          12378\n",
       "lunch_recode_x                 12378\n",
       "sped_recode_x                  12378\n",
       "ethnicity_recode_x             12378\n",
       "score_x                        12378\n",
       "lexilelevel_x                  12378\n",
       "adminyear_y                    12378\n",
       "administrationtype_y           12378\n",
       "schoolshort_y                  12378\n",
       "gradelevelduringadminyear_y    12378\n",
       "ell_y                          12378\n",
       "lunch_recode_y                 12378\n",
       "sped_recode_y                  12378\n",
       "ethnicity_recode_y             12378\n",
       "score_y                        12378\n",
       "lexilelevel_y                  12378\n",
       "dtype: int64"
      ]
     },
     "execution_count": 22,
     "metadata": {},
     "output_type": "execute_result"
    }
   ],
   "source": [
    "#Decided to drop data with\n",
    "#Another option is to use Mean values and we can check if there is a significant difference\n",
    "m = merge_df.dropna()\n",
    "m.count()"
   ]
  },
  {
   "cell_type": "code",
   "execution_count": 23,
   "metadata": {},
   "outputs": [
    {
     "data": {
      "text/plain": [
       "12378"
      ]
     },
     "execution_count": 23,
     "metadata": {},
     "output_type": "execute_result"
    }
   ],
   "source": [
    "# Get quick count of rows in a DataFrame\n",
    "Tcount = len(m.index)\n",
    "Tcount"
   ]
  },
  {
   "cell_type": "markdown",
   "metadata": {},
   "source": [
    "## Before we proceed with the Proper Data Analyis\n",
    "\n",
    "*  We need to Check for Cross-Enrollee during the school term\n"
   ]
  },
  {
   "cell_type": "code",
   "execution_count": 24,
   "metadata": {},
   "outputs": [],
   "source": [
    "#Check if the there are Students who Cross-Enrolled to Different School during the term\n",
    "#Results indicated that it was only the School Name informartion was misencoded (Additional Space/Information) but no cross enrollee.\n",
    "m_school= m[~m['schoolshort_x'].isin(m['schoolshort_y'])]"
   ]
  },
  {
   "cell_type": "code",
   "execution_count": 25,
   "metadata": {},
   "outputs": [
    {
     "data": {
      "text/plain": [
       "array(['ALMA', 'CRMA4'], dtype=object)"
      ]
     },
     "execution_count": 25,
     "metadata": {},
     "output_type": "execute_result"
    }
   ],
   "source": [
    "# 'ALMA' is used on PreTest\n",
    "# 'CRMA 4'\n",
    "m_school['schoolshort_x'].unique()"
   ]
  },
  {
   "cell_type": "code",
   "execution_count": 26,
   "metadata": {},
   "outputs": [
    {
     "data": {
      "text/plain": [
       "array(['ALMA (Roberts)', 'CRMA 4'], dtype=object)"
      ]
     },
     "execution_count": 26,
     "metadata": {},
     "output_type": "execute_result"
    }
   ],
   "source": [
    "# 'ALMA (Roberts) is used on Interim\n",
    "# 'CRMA 4'\n",
    "m_school['schoolshort_y'].unique()"
   ]
  },
  {
   "cell_type": "markdown",
   "metadata": {},
   "source": [
    "## Change the Values on the Merge Dataset"
   ]
  },
  {
   "cell_type": "code",
   "execution_count": 27,
   "metadata": {},
   "outputs": [],
   "source": [
    "#We need to Replace the PreTest School to be in-sync with the Interim Schools\n",
    "testDF = m.replace(['ALMA', 'CRMA4'],['ALMA (Roberts)','CRMA 4'])"
   ]
  },
  {
   "cell_type": "code",
   "execution_count": 28,
   "metadata": {},
   "outputs": [
    {
     "data": {
      "text/plain": [
       "Index(['adminyear_x', 'administrationtype_x', 'schoolshort_x', 'studentid',\n",
       "       'gradelevelduringadminyear_x', 'ell_x', 'lunch_recode_x',\n",
       "       'sped_recode_x', 'ethnicity_recode_x', 'score_x', 'lexilelevel_x',\n",
       "       'adminyear_y', 'administrationtype_y', 'schoolshort_y',\n",
       "       'gradelevelduringadminyear_y', 'ell_y', 'lunch_recode_y',\n",
       "       'sped_recode_y', 'ethnicity_recode_y', 'score_y', 'lexilelevel_y'],\n",
       "      dtype='object')"
      ]
     },
     "execution_count": 28,
     "metadata": {},
     "output_type": "execute_result"
    }
   ],
   "source": [
    "testDF.columns"
   ]
  },
  {
   "cell_type": "code",
   "execution_count": 29,
   "metadata": {},
   "outputs": [],
   "source": [
    "testDF = pd.DataFrame({'Year':testDF.adminyear_y,\n",
    "                   'School':testDF.schoolshort_y,\n",
    "                   'Student ID':testDF.studentid,\n",
    "                   'Grade Level':testDF.gradelevelduringadminyear_y,\n",
    "                   'ELL':testDF.ell_y,\n",
    "                   'Lunch Recode':testDF.lunch_recode_y,\n",
    "                   'Sped Recode':testDF.sped_recode_y,\n",
    "                   'Ethnicity':testDF.ethnicity_recode_y,\n",
    "                   'Pretest Score':testDF.score_x,\n",
    "                   'Interim Score':testDF.score_y,\n",
    "                   'Lexile Score':testDF.lexilelevel_y\n",
    "                         })"
   ]
  },
  {
   "cell_type": "code",
   "execution_count": 30,
   "metadata": {},
   "outputs": [
    {
     "data": {
      "text/html": [
       "<div>\n",
       "<style scoped>\n",
       "    .dataframe tbody tr th:only-of-type {\n",
       "        vertical-align: middle;\n",
       "    }\n",
       "\n",
       "    .dataframe tbody tr th {\n",
       "        vertical-align: top;\n",
       "    }\n",
       "\n",
       "    .dataframe thead th {\n",
       "        text-align: right;\n",
       "    }\n",
       "</style>\n",
       "<table border=\"1\" class=\"dataframe\">\n",
       "  <thead>\n",
       "    <tr style=\"text-align: right;\">\n",
       "      <th></th>\n",
       "      <th>ELL</th>\n",
       "      <th>Ethnicity</th>\n",
       "      <th>Grade Level</th>\n",
       "      <th>Interim Score</th>\n",
       "      <th>Lexile Score</th>\n",
       "      <th>Lunch Recode</th>\n",
       "      <th>Pretest Score</th>\n",
       "      <th>School</th>\n",
       "      <th>Sped Recode</th>\n",
       "      <th>Student ID</th>\n",
       "      <th>Year</th>\n",
       "    </tr>\n",
       "  </thead>\n",
       "  <tbody>\n",
       "    <tr>\n",
       "      <th>0</th>\n",
       "      <td>EL</td>\n",
       "      <td>Hispanic or Latino</td>\n",
       "      <td>12.0</td>\n",
       "      <td>450.0</td>\n",
       "      <td>between_6_yrs_fr</td>\n",
       "      <td>Free/Reduced</td>\n",
       "      <td>385.0</td>\n",
       "      <td>BLOOMFIELD</td>\n",
       "      <td>Special Education</td>\n",
       "      <td>455857</td>\n",
       "      <td>1718.0</td>\n",
       "    </tr>\n",
       "    <tr>\n",
       "      <th>1</th>\n",
       "      <td>IFEP</td>\n",
       "      <td>Hispanic or Latino</td>\n",
       "      <td>12.0</td>\n",
       "      <td>955.0</td>\n",
       "      <td>below_gl_4_6_yrs</td>\n",
       "      <td>Free/Reduced</td>\n",
       "      <td>975.0</td>\n",
       "      <td>BLOOMFIELD</td>\n",
       "      <td>Special Education</td>\n",
       "      <td>455869</td>\n",
       "      <td>1718.0</td>\n",
       "    </tr>\n",
       "    <tr>\n",
       "      <th>2</th>\n",
       "      <td>RFEP</td>\n",
       "      <td>Hispanic or Latino</td>\n",
       "      <td>12.0</td>\n",
       "      <td>1225.0</td>\n",
       "      <td>grade_level</td>\n",
       "      <td>Free/Reduced</td>\n",
       "      <td>1205.0</td>\n",
       "      <td>BLOOMFIELD</td>\n",
       "      <td>Non-Special Education</td>\n",
       "      <td>455893</td>\n",
       "      <td>1718.0</td>\n",
       "    </tr>\n",
       "    <tr>\n",
       "      <th>3</th>\n",
       "      <td>RFEP</td>\n",
       "      <td>Hispanic or Latino</td>\n",
       "      <td>12.0</td>\n",
       "      <td>1005.0</td>\n",
       "      <td>below_gl_4_6_yrs</td>\n",
       "      <td>Free/Reduced</td>\n",
       "      <td>915.0</td>\n",
       "      <td>BLOOMFIELD</td>\n",
       "      <td>Non-Special Education</td>\n",
       "      <td>455917</td>\n",
       "      <td>1718.0</td>\n",
       "    </tr>\n",
       "    <tr>\n",
       "      <th>4</th>\n",
       "      <td>EO</td>\n",
       "      <td>Hispanic or Latino</td>\n",
       "      <td>12.0</td>\n",
       "      <td>690.0</td>\n",
       "      <td>between_6_yrs_fr</td>\n",
       "      <td>Free/Reduced</td>\n",
       "      <td>650.0</td>\n",
       "      <td>COLLINS</td>\n",
       "      <td>Non-Special Education</td>\n",
       "      <td>455929</td>\n",
       "      <td>1718.0</td>\n",
       "    </tr>\n",
       "  </tbody>\n",
       "</table>\n",
       "</div>"
      ],
      "text/plain": [
       "    ELL           Ethnicity  Grade Level  Interim Score      Lexile Score  \\\n",
       "0    EL  Hispanic or Latino         12.0          450.0  between_6_yrs_fr   \n",
       "1  IFEP  Hispanic or Latino         12.0          955.0  below_gl_4_6_yrs   \n",
       "2  RFEP  Hispanic or Latino         12.0         1225.0       grade_level   \n",
       "3  RFEP  Hispanic or Latino         12.0         1005.0  below_gl_4_6_yrs   \n",
       "4    EO  Hispanic or Latino         12.0          690.0  between_6_yrs_fr   \n",
       "\n",
       "   Lunch Recode  Pretest Score      School            Sped Recode  Student ID  \\\n",
       "0  Free/Reduced          385.0  BLOOMFIELD      Special Education      455857   \n",
       "1  Free/Reduced          975.0  BLOOMFIELD      Special Education      455869   \n",
       "2  Free/Reduced         1205.0  BLOOMFIELD  Non-Special Education      455893   \n",
       "3  Free/Reduced          915.0  BLOOMFIELD  Non-Special Education      455917   \n",
       "4  Free/Reduced          650.0     COLLINS  Non-Special Education      455929   \n",
       "\n",
       "     Year  \n",
       "0  1718.0  \n",
       "1  1718.0  \n",
       "2  1718.0  \n",
       "3  1718.0  \n",
       "4  1718.0  "
      ]
     },
     "execution_count": 30,
     "metadata": {},
     "output_type": "execute_result"
    }
   ],
   "source": [
    "testDF[:5]"
   ]
  },
  {
   "cell_type": "code",
   "execution_count": 31,
   "metadata": {},
   "outputs": [],
   "source": [
    "testDF = testDF[['Year','Student ID','ELL', 'Ethnicity', 'Grade Level', \n",
    "                 'Sped Recode','Lexile Score', 'Lunch Recode', \n",
    "                 'School','Pretest Score','Interim Score']]\n",
    "\n",
    "#Reset the Index\n",
    "testDF = testDF.reset_index(drop=True)"
   ]
  },
  {
   "cell_type": "code",
   "execution_count": 32,
   "metadata": {},
   "outputs": [
    {
     "data": {
      "text/html": [
       "<div>\n",
       "<style scoped>\n",
       "    .dataframe tbody tr th:only-of-type {\n",
       "        vertical-align: middle;\n",
       "    }\n",
       "\n",
       "    .dataframe tbody tr th {\n",
       "        vertical-align: top;\n",
       "    }\n",
       "\n",
       "    .dataframe thead th {\n",
       "        text-align: right;\n",
       "    }\n",
       "</style>\n",
       "<table border=\"1\" class=\"dataframe\">\n",
       "  <thead>\n",
       "    <tr style=\"text-align: right;\">\n",
       "      <th></th>\n",
       "      <th>Year</th>\n",
       "      <th>Student ID</th>\n",
       "      <th>ELL</th>\n",
       "      <th>Ethnicity</th>\n",
       "      <th>Grade Level</th>\n",
       "      <th>Sped Recode</th>\n",
       "      <th>Lexile Score</th>\n",
       "      <th>Lunch Recode</th>\n",
       "      <th>School</th>\n",
       "      <th>Pretest Score</th>\n",
       "      <th>Interim Score</th>\n",
       "    </tr>\n",
       "  </thead>\n",
       "  <tbody>\n",
       "    <tr>\n",
       "      <th>0</th>\n",
       "      <td>1718.0</td>\n",
       "      <td>455857</td>\n",
       "      <td>EL</td>\n",
       "      <td>Hispanic or Latino</td>\n",
       "      <td>12.0</td>\n",
       "      <td>Special Education</td>\n",
       "      <td>between_6_yrs_fr</td>\n",
       "      <td>Free/Reduced</td>\n",
       "      <td>BLOOMFIELD</td>\n",
       "      <td>385.0</td>\n",
       "      <td>450.0</td>\n",
       "    </tr>\n",
       "    <tr>\n",
       "      <th>1</th>\n",
       "      <td>1718.0</td>\n",
       "      <td>455869</td>\n",
       "      <td>IFEP</td>\n",
       "      <td>Hispanic or Latino</td>\n",
       "      <td>12.0</td>\n",
       "      <td>Special Education</td>\n",
       "      <td>below_gl_4_6_yrs</td>\n",
       "      <td>Free/Reduced</td>\n",
       "      <td>BLOOMFIELD</td>\n",
       "      <td>975.0</td>\n",
       "      <td>955.0</td>\n",
       "    </tr>\n",
       "    <tr>\n",
       "      <th>2</th>\n",
       "      <td>1718.0</td>\n",
       "      <td>455893</td>\n",
       "      <td>RFEP</td>\n",
       "      <td>Hispanic or Latino</td>\n",
       "      <td>12.0</td>\n",
       "      <td>Non-Special Education</td>\n",
       "      <td>grade_level</td>\n",
       "      <td>Free/Reduced</td>\n",
       "      <td>BLOOMFIELD</td>\n",
       "      <td>1205.0</td>\n",
       "      <td>1225.0</td>\n",
       "    </tr>\n",
       "    <tr>\n",
       "      <th>3</th>\n",
       "      <td>1718.0</td>\n",
       "      <td>455917</td>\n",
       "      <td>RFEP</td>\n",
       "      <td>Hispanic or Latino</td>\n",
       "      <td>12.0</td>\n",
       "      <td>Non-Special Education</td>\n",
       "      <td>below_gl_4_6_yrs</td>\n",
       "      <td>Free/Reduced</td>\n",
       "      <td>BLOOMFIELD</td>\n",
       "      <td>915.0</td>\n",
       "      <td>1005.0</td>\n",
       "    </tr>\n",
       "    <tr>\n",
       "      <th>4</th>\n",
       "      <td>1718.0</td>\n",
       "      <td>455929</td>\n",
       "      <td>EO</td>\n",
       "      <td>Hispanic or Latino</td>\n",
       "      <td>12.0</td>\n",
       "      <td>Non-Special Education</td>\n",
       "      <td>between_6_yrs_fr</td>\n",
       "      <td>Free/Reduced</td>\n",
       "      <td>COLLINS</td>\n",
       "      <td>650.0</td>\n",
       "      <td>690.0</td>\n",
       "    </tr>\n",
       "  </tbody>\n",
       "</table>\n",
       "</div>"
      ],
      "text/plain": [
       "     Year  Student ID   ELL           Ethnicity  Grade Level  \\\n",
       "0  1718.0      455857    EL  Hispanic or Latino         12.0   \n",
       "1  1718.0      455869  IFEP  Hispanic or Latino         12.0   \n",
       "2  1718.0      455893  RFEP  Hispanic or Latino         12.0   \n",
       "3  1718.0      455917  RFEP  Hispanic or Latino         12.0   \n",
       "4  1718.0      455929    EO  Hispanic or Latino         12.0   \n",
       "\n",
       "             Sped Recode      Lexile Score  Lunch Recode      School  \\\n",
       "0      Special Education  between_6_yrs_fr  Free/Reduced  BLOOMFIELD   \n",
       "1      Special Education  below_gl_4_6_yrs  Free/Reduced  BLOOMFIELD   \n",
       "2  Non-Special Education       grade_level  Free/Reduced  BLOOMFIELD   \n",
       "3  Non-Special Education  below_gl_4_6_yrs  Free/Reduced  BLOOMFIELD   \n",
       "4  Non-Special Education  between_6_yrs_fr  Free/Reduced     COLLINS   \n",
       "\n",
       "   Pretest Score  Interim Score  \n",
       "0          385.0          450.0  \n",
       "1          975.0          955.0  \n",
       "2         1205.0         1225.0  \n",
       "3          915.0         1005.0  \n",
       "4          650.0          690.0  "
      ]
     },
     "execution_count": 32,
     "metadata": {},
     "output_type": "execute_result"
    }
   ],
   "source": [
    "testDF[:5]"
   ]
  },
  {
   "cell_type": "markdown",
   "metadata": {},
   "source": [
    "# Data Analysis"
   ]
  },
  {
   "cell_type": "markdown",
   "metadata": {},
   "source": [
    "## Task1:\n",
    "*  i. By how many points did the Alliance wide average Lexile score grow from Pretest to Interim test?\n",
    "*  ii. By how many points did each school’s average Lexile score grow from Pretest to Interim test in each grade and school wide (all grades)?\n",
    "*  iii. For how many students (alliance wide) did we have the Pretest score but not the Interim test score? How did you treat these students in your analysis?"
   ]
  },
  {
   "cell_type": "code",
   "execution_count": 33,
   "metadata": {},
   "outputs": [
    {
     "data": {
      "text/html": [
       "<div>\n",
       "<style scoped>\n",
       "    .dataframe tbody tr th:only-of-type {\n",
       "        vertical-align: middle;\n",
       "    }\n",
       "\n",
       "    .dataframe tbody tr th {\n",
       "        vertical-align: top;\n",
       "    }\n",
       "\n",
       "    .dataframe thead th {\n",
       "        text-align: right;\n",
       "    }\n",
       "</style>\n",
       "<table border=\"1\" class=\"dataframe\">\n",
       "  <thead>\n",
       "    <tr style=\"text-align: right;\">\n",
       "      <th></th>\n",
       "      <th>Year</th>\n",
       "      <th>Student ID</th>\n",
       "      <th>Grade Level</th>\n",
       "      <th>Pretest Score</th>\n",
       "      <th>Interim Score</th>\n",
       "    </tr>\n",
       "  </thead>\n",
       "  <tbody>\n",
       "    <tr>\n",
       "      <th>count</th>\n",
       "      <td>12378.0</td>\n",
       "      <td>12378.000000</td>\n",
       "      <td>12378.000000</td>\n",
       "      <td>12378.000000</td>\n",
       "      <td>12378.000000</td>\n",
       "    </tr>\n",
       "    <tr>\n",
       "      <th>mean</th>\n",
       "      <td>1718.0</td>\n",
       "      <td>616942.309743</td>\n",
       "      <td>9.244951</td>\n",
       "      <td>845.399499</td>\n",
       "      <td>878.620536</td>\n",
       "    </tr>\n",
       "    <tr>\n",
       "      <th>std</th>\n",
       "      <td>0.0</td>\n",
       "      <td>157259.146969</td>\n",
       "      <td>1.927240</td>\n",
       "      <td>265.038958</td>\n",
       "      <td>252.509698</td>\n",
       "    </tr>\n",
       "    <tr>\n",
       "      <th>min</th>\n",
       "      <td>1718.0</td>\n",
       "      <td>193405.000000</td>\n",
       "      <td>6.000000</td>\n",
       "      <td>-305.000000</td>\n",
       "      <td>-220.000000</td>\n",
       "    </tr>\n",
       "    <tr>\n",
       "      <th>25%</th>\n",
       "      <td>1718.0</td>\n",
       "      <td>491812.000000</td>\n",
       "      <td>8.000000</td>\n",
       "      <td>690.000000</td>\n",
       "      <td>725.000000</td>\n",
       "    </tr>\n",
       "    <tr>\n",
       "      <th>50%</th>\n",
       "      <td>1718.0</td>\n",
       "      <td>665893.000000</td>\n",
       "      <td>9.000000</td>\n",
       "      <td>860.000000</td>\n",
       "      <td>890.000000</td>\n",
       "    </tr>\n",
       "    <tr>\n",
       "      <th>75%</th>\n",
       "      <td>1718.0</td>\n",
       "      <td>750298.000000</td>\n",
       "      <td>11.000000</td>\n",
       "      <td>1030.000000</td>\n",
       "      <td>1055.000000</td>\n",
       "    </tr>\n",
       "    <tr>\n",
       "      <th>max</th>\n",
       "      <td>1718.0</td>\n",
       "      <td>800293.000000</td>\n",
       "      <td>12.000000</td>\n",
       "      <td>1600.000000</td>\n",
       "      <td>1600.000000</td>\n",
       "    </tr>\n",
       "  </tbody>\n",
       "</table>\n",
       "</div>"
      ],
      "text/plain": [
       "          Year     Student ID   Grade Level  Pretest Score  Interim Score\n",
       "count  12378.0   12378.000000  12378.000000   12378.000000   12378.000000\n",
       "mean    1718.0  616942.309743      9.244951     845.399499     878.620536\n",
       "std        0.0  157259.146969      1.927240     265.038958     252.509698\n",
       "min     1718.0  193405.000000      6.000000    -305.000000    -220.000000\n",
       "25%     1718.0  491812.000000      8.000000     690.000000     725.000000\n",
       "50%     1718.0  665893.000000      9.000000     860.000000     890.000000\n",
       "75%     1718.0  750298.000000     11.000000    1030.000000    1055.000000\n",
       "max     1718.0  800293.000000     12.000000    1600.000000    1600.000000"
      ]
     },
     "execution_count": 33,
     "metadata": {},
     "output_type": "execute_result"
    }
   ],
   "source": [
    "testDF.describe()"
   ]
  },
  {
   "cell_type": "code",
   "execution_count": 34,
   "metadata": {},
   "outputs": [
    {
     "data": {
      "text/plain": [
       "(845.3994991113266, 878.6205364356116)"
      ]
     },
     "execution_count": 34,
     "metadata": {},
     "output_type": "execute_result"
    }
   ],
   "source": [
    "#i. By how many points did the Alliance wide average Lexile score grow from Pretest to Interim test?\n",
    "Pretest = testDF['Pretest Score'].mean()\n",
    "Interim = testDF['Interim Score'].mean()\n",
    "Pretest, Interim"
   ]
  },
  {
   "cell_type": "code",
   "execution_count": 35,
   "metadata": {},
   "outputs": [
    {
     "data": {
      "text/plain": [
       "33.22103732428502"
      ]
     },
     "execution_count": 35,
     "metadata": {},
     "output_type": "execute_result"
    }
   ],
   "source": [
    "Points = (Interim  - Pretest)\n",
    "Points"
   ]
  },
  {
   "cell_type": "code",
   "execution_count": 36,
   "metadata": {},
   "outputs": [
    {
     "name": "stdout",
     "output_type": "stream",
     "text": [
      "İ) Alliance wide average Lexile score grow from   845.4 to 878.62 which is exacly 33.22 points.\n"
     ]
    }
   ],
   "source": [
    "print(\"İ) Alliance wide average Lexile score grow from  \",round(Pretest,2),\"to\",round(Interim,2),\"which is exacly\",round(Points,2),\"points.\")"
   ]
  },
  {
   "cell_type": "code",
   "execution_count": 37,
   "metadata": {},
   "outputs": [
    {
     "data": {
      "text/plain": [
       "3.929625858449947"
      ]
     },
     "execution_count": 37,
     "metadata": {},
     "output_type": "execute_result"
    }
   ],
   "source": [
    "#ii.By how many points did each school’s average Lexile score grow from Pretest to Interim test in each grade and school wide (all grades)?\n",
    "PercentGrowth = ((Interim - Pretest)/Pretest) *100\n",
    "PercentGrowth"
   ]
  },
  {
   "cell_type": "code",
   "execution_count": 38,
   "metadata": {},
   "outputs": [
    {
     "name": "stdout",
     "output_type": "stream",
     "text": [
      "İİ) School’s average Lexile score grow  3.93 percent from Pretest to Interim test in each grade and school wide.\n"
     ]
    }
   ],
   "source": [
    "print(\"İİ) School’s average Lexile score grow \",round(PercentGrowth,3),\"percent from Pretest to Interim test in each grade and school wide.\")"
   ]
  },
  {
   "cell_type": "code",
   "execution_count": 39,
   "metadata": {},
   "outputs": [
    {
     "data": {
      "text/plain": [
       "130"
      ]
     },
     "execution_count": 39,
     "metadata": {},
     "output_type": "execute_result"
    }
   ],
   "source": [
    "#iii\n",
    "#For how many students (alliance wide) did we have the Pretest score but not the Interim test score? \n",
    "#How did you treat these students in your analysis?\n",
    "\n",
    "# For Students that didn't have Interim score, we decided to drop them so that our data will not be skewed. but we have the option\n",
    "# of replacing its Interim Score from NULL to the Interim MEAN Values or Min or Max values.\n",
    "#It will be interesting to check if there is a significant difference.\n",
    "have_Pretest_score = df_ID_pretest['studentid'].count()\n",
    "have_Pretest_score\n",
    "\n"
   ]
  },
  {
   "cell_type": "code",
   "execution_count": 40,
   "metadata": {},
   "outputs": [
    {
     "name": "stdout",
     "output_type": "stream",
     "text": [
      "İİİ) 130 students have got their pretest score  but not interim score. For Students that didn't have Interim score, we can either drop them so that our data will not be skewed or we can replace them its Interim Score from NULL to the Interim MEAN Values or Min or Max values.\n"
     ]
    }
   ],
   "source": [
    "print(\"İİİ)\",have_Pretest_score,\"students have got their pretest score  but not interim score. For Students that didn't have Interim score, we can either drop them so that our data will not be skewed or we can replace them its Interim Score from NULL to the Interim MEAN Values or Min or Max values.\")"
   ]
  },
  {
   "cell_type": "markdown",
   "metadata": {},
   "source": [
    "## Task 2\n",
    "*  What percentage of English Learners at each school grew at least one Lexile level from the Pretest to the Interim Test? \n",
    "*  English Learners are identified as having “EL” in the “ELL” column. You do not need to breakdown the percentages by grade level."
   ]
  },
  {
   "cell_type": "code",
   "execution_count": 41,
   "metadata": {},
   "outputs": [
    {
     "data": {
      "text/html": [
       "<div>\n",
       "<style scoped>\n",
       "    .dataframe tbody tr th:only-of-type {\n",
       "        vertical-align: middle;\n",
       "    }\n",
       "\n",
       "    .dataframe tbody tr th {\n",
       "        vertical-align: top;\n",
       "    }\n",
       "\n",
       "    .dataframe thead th {\n",
       "        text-align: right;\n",
       "    }\n",
       "</style>\n",
       "<table border=\"1\" class=\"dataframe\">\n",
       "  <thead>\n",
       "    <tr style=\"text-align: right;\">\n",
       "      <th></th>\n",
       "      <th>Year</th>\n",
       "      <th>Student ID</th>\n",
       "      <th>Ethnicity</th>\n",
       "      <th>Grade Level</th>\n",
       "      <th>Sped Recode</th>\n",
       "      <th>Lexile Score</th>\n",
       "      <th>Lunch Recode</th>\n",
       "      <th>School</th>\n",
       "      <th>Pretest Score</th>\n",
       "      <th>Interim Score</th>\n",
       "    </tr>\n",
       "    <tr>\n",
       "      <th>ELL</th>\n",
       "      <th></th>\n",
       "      <th></th>\n",
       "      <th></th>\n",
       "      <th></th>\n",
       "      <th></th>\n",
       "      <th></th>\n",
       "      <th></th>\n",
       "      <th></th>\n",
       "      <th></th>\n",
       "      <th></th>\n",
       "    </tr>\n",
       "  </thead>\n",
       "  <tbody>\n",
       "    <tr>\n",
       "      <th>EL</th>\n",
       "      <td>1981</td>\n",
       "      <td>1981</td>\n",
       "      <td>1981</td>\n",
       "      <td>1981</td>\n",
       "      <td>1981</td>\n",
       "      <td>1981</td>\n",
       "      <td>1981</td>\n",
       "      <td>1981</td>\n",
       "      <td>1981</td>\n",
       "      <td>1981</td>\n",
       "    </tr>\n",
       "    <tr>\n",
       "      <th>EO</th>\n",
       "      <td>2339</td>\n",
       "      <td>2339</td>\n",
       "      <td>2339</td>\n",
       "      <td>2339</td>\n",
       "      <td>2339</td>\n",
       "      <td>2339</td>\n",
       "      <td>2339</td>\n",
       "      <td>2339</td>\n",
       "      <td>2339</td>\n",
       "      <td>2339</td>\n",
       "    </tr>\n",
       "    <tr>\n",
       "      <th>IFEP</th>\n",
       "      <td>1239</td>\n",
       "      <td>1239</td>\n",
       "      <td>1239</td>\n",
       "      <td>1239</td>\n",
       "      <td>1239</td>\n",
       "      <td>1239</td>\n",
       "      <td>1239</td>\n",
       "      <td>1239</td>\n",
       "      <td>1239</td>\n",
       "      <td>1239</td>\n",
       "    </tr>\n",
       "    <tr>\n",
       "      <th>RFEP</th>\n",
       "      <td>6765</td>\n",
       "      <td>6765</td>\n",
       "      <td>6765</td>\n",
       "      <td>6765</td>\n",
       "      <td>6765</td>\n",
       "      <td>6765</td>\n",
       "      <td>6765</td>\n",
       "      <td>6765</td>\n",
       "      <td>6765</td>\n",
       "      <td>6765</td>\n",
       "    </tr>\n",
       "    <tr>\n",
       "      <th>TBD</th>\n",
       "      <td>54</td>\n",
       "      <td>54</td>\n",
       "      <td>54</td>\n",
       "      <td>54</td>\n",
       "      <td>54</td>\n",
       "      <td>54</td>\n",
       "      <td>54</td>\n",
       "      <td>54</td>\n",
       "      <td>54</td>\n",
       "      <td>54</td>\n",
       "    </tr>\n",
       "  </tbody>\n",
       "</table>\n",
       "</div>"
      ],
      "text/plain": [
       "      Year  Student ID  Ethnicity  Grade Level  Sped Recode  Lexile Score  \\\n",
       "ELL                                                                         \n",
       "EL    1981        1981       1981         1981         1981          1981   \n",
       "EO    2339        2339       2339         2339         2339          2339   \n",
       "IFEP  1239        1239       1239         1239         1239          1239   \n",
       "RFEP  6765        6765       6765         6765         6765          6765   \n",
       "TBD     54          54         54           54           54            54   \n",
       "\n",
       "      Lunch Recode  School  Pretest Score  Interim Score  \n",
       "ELL                                                       \n",
       "EL            1981    1981           1981           1981  \n",
       "EO            2339    2339           2339           2339  \n",
       "IFEP          1239    1239           1239           1239  \n",
       "RFEP          6765    6765           6765           6765  \n",
       "TBD             54      54             54             54  "
      ]
     },
     "execution_count": 41,
     "metadata": {},
     "output_type": "execute_result"
    }
   ],
   "source": [
    "learners = testDF.groupby('ELL').count()\n",
    "learners"
   ]
  },
  {
   "cell_type": "code",
   "execution_count": 42,
   "metadata": {},
   "outputs": [
    {
     "data": {
      "text/plain": [
       "1981"
      ]
     },
     "execution_count": 42,
     "metadata": {},
     "output_type": "execute_result"
    }
   ],
   "source": [
    "# Get quick count of rows in a DataFrame\n",
    "english_df = testDF.loc[testDF.ELL == 'EL']\n",
    "eng_count = len(english_df.index)\n",
    "eng_count"
   ]
  },
  {
   "cell_type": "code",
   "execution_count": 43,
   "metadata": {},
   "outputs": [
    {
     "data": {
      "text/plain": [
       "16.004201001777346"
      ]
     },
     "execution_count": 43,
     "metadata": {},
     "output_type": "execute_result"
    }
   ],
   "source": [
    "percent_english = (eng_count/Tcount)*100\n",
    "percent_english"
   ]
  },
  {
   "cell_type": "code",
   "execution_count": 44,
   "metadata": {},
   "outputs": [
    {
     "name": "stdout",
     "output_type": "stream",
     "text": [
      "English Learners at each school 16.0 percent grew at least one Lexile level from the Pretest to the Interim Test.\n"
     ]
    }
   ],
   "source": [
    "print(\"English Learners at each school\",round(percent_english,2),\"percent grew at least one Lexile level from the Pretest to the Interim Test.\")"
   ]
  },
  {
   "cell_type": "markdown",
   "metadata": {},
   "source": [
    "## Task3:\n",
    "*  What percentages of students receiving special education services at each school achieved either Grade-Level or College-Ready Lexile Levels on the Interim test?\n",
    "*  You do not need to breakdown the percentages by grade level."
   ]
  },
  {
   "cell_type": "code",
   "execution_count": 45,
   "metadata": {},
   "outputs": [
    {
     "data": {
      "text/html": [
       "<div>\n",
       "<style scoped>\n",
       "    .dataframe tbody tr th:only-of-type {\n",
       "        vertical-align: middle;\n",
       "    }\n",
       "\n",
       "    .dataframe tbody tr th {\n",
       "        vertical-align: top;\n",
       "    }\n",
       "\n",
       "    .dataframe thead th {\n",
       "        text-align: right;\n",
       "    }\n",
       "</style>\n",
       "<table border=\"1\" class=\"dataframe\">\n",
       "  <thead>\n",
       "    <tr style=\"text-align: right;\">\n",
       "      <th></th>\n",
       "      <th>Year</th>\n",
       "      <th>Student ID</th>\n",
       "      <th>ELL</th>\n",
       "      <th>Ethnicity</th>\n",
       "      <th>Grade Level</th>\n",
       "      <th>Lexile Score</th>\n",
       "      <th>Lunch Recode</th>\n",
       "      <th>School</th>\n",
       "      <th>Pretest Score</th>\n",
       "      <th>Interim Score</th>\n",
       "    </tr>\n",
       "    <tr>\n",
       "      <th>Sped Recode</th>\n",
       "      <th></th>\n",
       "      <th></th>\n",
       "      <th></th>\n",
       "      <th></th>\n",
       "      <th></th>\n",
       "      <th></th>\n",
       "      <th></th>\n",
       "      <th></th>\n",
       "      <th></th>\n",
       "      <th></th>\n",
       "    </tr>\n",
       "  </thead>\n",
       "  <tbody>\n",
       "    <tr>\n",
       "      <th>Non-Special Education</th>\n",
       "      <td>11060</td>\n",
       "      <td>11060</td>\n",
       "      <td>11060</td>\n",
       "      <td>11060</td>\n",
       "      <td>11060</td>\n",
       "      <td>11060</td>\n",
       "      <td>11060</td>\n",
       "      <td>11060</td>\n",
       "      <td>11060</td>\n",
       "      <td>11060</td>\n",
       "    </tr>\n",
       "    <tr>\n",
       "      <th>Special Education</th>\n",
       "      <td>1318</td>\n",
       "      <td>1318</td>\n",
       "      <td>1318</td>\n",
       "      <td>1318</td>\n",
       "      <td>1318</td>\n",
       "      <td>1318</td>\n",
       "      <td>1318</td>\n",
       "      <td>1318</td>\n",
       "      <td>1318</td>\n",
       "      <td>1318</td>\n",
       "    </tr>\n",
       "  </tbody>\n",
       "</table>\n",
       "</div>"
      ],
      "text/plain": [
       "                        Year  Student ID    ELL  Ethnicity  Grade Level  \\\n",
       "Sped Recode                                                               \n",
       "Non-Special Education  11060       11060  11060      11060        11060   \n",
       "Special Education       1318        1318   1318       1318         1318   \n",
       "\n",
       "                       Lexile Score  Lunch Recode  School  Pretest Score  \\\n",
       "Sped Recode                                                                \n",
       "Non-Special Education         11060         11060   11060          11060   \n",
       "Special Education              1318          1318    1318           1318   \n",
       "\n",
       "                       Interim Score  \n",
       "Sped Recode                           \n",
       "Non-Special Education          11060  \n",
       "Special Education               1318  "
      ]
     },
     "execution_count": 45,
     "metadata": {},
     "output_type": "execute_result"
    }
   ],
   "source": [
    "education = testDF.groupby('Sped Recode').count()\n",
    "education"
   ]
  },
  {
   "cell_type": "code",
   "execution_count": 46,
   "metadata": {},
   "outputs": [
    {
     "data": {
      "text/plain": [
       "1318"
      ]
     },
     "execution_count": 46,
     "metadata": {},
     "output_type": "execute_result"
    }
   ],
   "source": [
    "# Get quick count of rows in a DataFrame\n",
    "sp_education = testDF.loc[testDF['Sped Recode'] == 'Special Education']\n",
    "sp_count = len(sp_education.index)\n",
    "sp_count"
   ]
  },
  {
   "cell_type": "code",
   "execution_count": 47,
   "metadata": {},
   "outputs": [
    {
     "data": {
      "text/plain": [
       "10.647923735660042"
      ]
     },
     "execution_count": 47,
     "metadata": {},
     "output_type": "execute_result"
    }
   ],
   "source": [
    "percent_sp = (sp_count / Tcount) *100\n",
    "percent_sp"
   ]
  },
  {
   "cell_type": "code",
   "execution_count": 48,
   "metadata": {},
   "outputs": [
    {
     "name": "stdout",
     "output_type": "stream",
     "text": [
      "10.65 percentages of students receiving special education services at each school achieved either Grade-Level or College-Ready Lexile Levels on the Interim test.\n"
     ]
    }
   ],
   "source": [
    "print(round(percent_sp,2),\"percentages of students receiving special education services at each school achieved either Grade-Level or College-Ready Lexile Levels on the Interim test.\")"
   ]
  },
  {
   "cell_type": "markdown",
   "metadata": {},
   "source": [
    "## Task4:\n",
    "*  i. Step wise detail of your approach in answering the above questions and any assumptions you made in cleaning/analyzing the data. Please provide this task wise for each task stated above (Task 1-3). You should provide clearly annotated code (optional: you can also provide your log file as additionally).\n",
    "\n",
    "\n",
    "*  ii. Your key takeaways from the data (assume the audience for this portion is our Board of Directors) and evidence/charts to support your conclusions. Assume that your audience is keen on understanding overall trends and not diving deep into any statistical terms.\n",
    "\n",
    "\n",
    "*  iii. The additional analysis you would like to do if you had an additional few days to work with the data and why the additional analysis would be important.\n",
    "\n",
    "\n",
    "*  iv. If applicable, any additional data you would like to have which would allow you to explore additional implications of the data."
   ]
  },
  {
   "cell_type": "code",
   "execution_count": null,
   "metadata": {},
   "outputs": [],
   "source": []
  },
  {
   "cell_type": "code",
   "execution_count": null,
   "metadata": {},
   "outputs": [],
   "source": []
  },
  {
   "cell_type": "code",
   "execution_count": null,
   "metadata": {},
   "outputs": [],
   "source": []
  }
 ],
 "metadata": {
  "kernelspec": {
   "display_name": "Python 3",
   "language": "python",
   "name": "python3"
  },
  "language_info": {
   "codemirror_mode": {
    "name": "ipython",
    "version": 3
   },
   "file_extension": ".py",
   "mimetype": "text/x-python",
   "name": "python",
   "nbconvert_exporter": "python",
   "pygments_lexer": "ipython3",
   "version": "3.6.4"
  }
 },
 "nbformat": 4,
 "nbformat_minor": 2
}
